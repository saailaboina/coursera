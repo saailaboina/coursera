{
 "cells": [
  {
   "cell_type": "markdown",
   "id": "bc685e24",
   "metadata": {},
   "source": [
    "# Data Science Tools and Ecosystem\n",
    "\n",
    "In this notebook, Data Science Tools and Ecosystem are summarized."
   ]
  },
  {
   "cell_type": "markdown",
   "id": "cd9e6743",
   "metadata": {},
   "source": [
    "Some of the popular languages that Data Scientists use are:\n",
    "\n",
    "1. Python\n",
    "2. R\n",
    "3. Julia\n",
    "4. SQL\n",
    "\n"
   ]
  },
  {
   "cell_type": "markdown",
   "id": "7e1b094c",
   "metadata": {},
   "source": [
    "Some of the commonly used libraries used by Data Scientists include\n",
    "\n",
    "1. Pandas\n",
    "2. Numpy\n",
    "3. Matplotlib\n",
    "4. Keras\n",
    "5. TensorFlow"
   ]
  },
  {
   "cell_type": "markdown",
   "id": "580f8c52",
   "metadata": {},
   "source": [
    "# Data Science Tools\n",
    "\n",
    "1. Jupyter Notebook\n",
    "2. RStudio\n",
    "3. Apache Hadoop\n",
    "4. Apache Spark\n",
    "\n"
   ]
  },
  {
   "cell_type": "markdown",
   "id": "756c475a",
   "metadata": {},
   "source": [
    "### Below are a few examples of evaluating arithmetic expressions in Python.\n",
    "\n",
    "1. a+b\n",
    "2. a*b\n",
    "3. a-b"
   ]
  },
  {
   "cell_type": "code",
   "execution_count": 3,
   "id": "ab4b143d",
   "metadata": {},
   "outputs": [
    {
     "data": {
      "text/plain": [
       "17"
      ]
     },
     "execution_count": 3,
     "metadata": {},
     "output_type": "execute_result"
    }
   ],
   "source": [
    "(3*4)+5"
   ]
  },
  {
   "cell_type": "code",
   "execution_count": 6,
   "id": "dc901925",
   "metadata": {},
   "outputs": [
    {
     "name": "stdout",
     "output_type": "stream",
     "text": [
      "3.3333333333333335\n"
     ]
    }
   ],
   "source": [
    "m = 200\n",
    "h = minutes / 60\n",
    "print(h)"
   ]
  },
  {
   "cell_type": "markdown",
   "id": "904621e7",
   "metadata": {},
   "source": [
    "# OBJECTIVE:\n",
    "1. python\n",
    "2. Sql\n",
    "3. R\n",
    "4. Cloud"
   ]
  },
  {
   "cell_type": "markdown",
   "id": "f5aa1bab",
   "metadata": {},
   "source": [
    "## aailaboina shravan yadav"
   ]
  },
  {
   "cell_type": "code",
   "execution_count": null,
   "id": "86e942db",
   "metadata": {},
   "outputs": [],
   "source": []
  }
 ],
 "metadata": {
  "kernelspec": {
   "display_name": "Python 3 (ipykernel)",
   "language": "python",
   "name": "python3"
  },
  "language_info": {
   "codemirror_mode": {
    "name": "ipython",
    "version": 3
   },
   "file_extension": ".py",
   "mimetype": "text/x-python",
   "name": "python",
   "nbconvert_exporter": "python",
   "pygments_lexer": "ipython3",
   "version": "3.9.7"
  }
 },
 "nbformat": 4,
 "nbformat_minor": 5
}
